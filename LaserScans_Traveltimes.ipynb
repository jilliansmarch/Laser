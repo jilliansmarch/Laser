{
 "cells": [
  {
   "cell_type": "markdown",
   "id": "a59787c5",
   "metadata": {},
   "source": [
    "****Linear Scan of Stacked Waves****"
   ]
  },
  {
   "cell_type": "markdown",
   "id": "ffb31e1b",
   "metadata": {},
   "source": [
    "This is for a linear scan (in the y-direction) of points along the rock. We can see how the arrival times of the wave differ before and after where the transducer is."
   ]
  },
  {
   "cell_type": "code",
   "execution_count": null,
   "id": "3ddb3347",
   "metadata": {},
   "outputs": [],
   "source": [
    "import numpy as np\n",
    "import glob\n",
    "import matplotlib.pyplot as plt"
   ]
  },
  {
   "cell_type": "code",
   "execution_count": null,
   "id": "5d3ef128",
   "metadata": {},
   "outputs": [],
   "source": [
    "data_folder = \"/path/to/your/files\"\n",
    "file_pattern = \"Test_x0_y*.npy\"\n",
    "files = sorted(glob.glob(data_folder + file_pattern))\n",
    "arrival_times = {}\n",
    "\n",
    "time_min = 1.4e-5  \n",
    "time_max = 2.4e-5 \n",
    "threshold = 0.02"
   ]
  },
  {
   "cell_type": "markdown",
   "id": "cc381fa6",
   "metadata": {},
   "source": [
    "Calculate arrival times for each point based on a baseline and threshold (again, not super accurate unless you print the graph and see for yourself, and adjust accordingly)"
   ]
  },
  {
   "cell_type": "code",
   "execution_count": null,
   "id": "0f4c550c",
   "metadata": {},
   "outputs": [],
   "source": [
    "for file in files:\n",
    "    raw_data = np.load(file)\n",
    "    data2 = raw_data.reshape((2, -1))\n",
    "    \n",
    "    time_array = data2[0, :]\n",
    "    voltage_array = data2[1, :]\n",
    "\n",
    "    valid_indices = np.where((time_array >= time_min) & (time_array <= time_max))[0]\n",
    "\n",
    "    if len(valid_indices) > 0:\n",
    "        baseline_voltage = np.mean(voltage_array[:valid_indices[0]]) \n",
    "\n",
    "        for idx in valid_indices:\n",
    "            if abs(voltage_array[idx] - baseline_voltage) > threshold:\n",
    "                arrival_times[file] = time_array[idx]\n",
    "                break \n",
    "\n",
    "for file, arrival_time in arrival_times.items():\n",
    "    print(f\"{file}: {arrival_time:.6e} s\")"
   ]
  },
  {
   "cell_type": "markdown",
   "id": "ce9f4617",
   "metadata": {},
   "source": [
    "Stacked Wave Graph"
   ]
  },
  {
   "cell_type": "code",
   "execution_count": null,
   "id": "0b6b5547",
   "metadata": {},
   "outputs": [],
   "source": [
    "reshaped_data = {}\n",
    "\n",
    "for file in files:\n",
    "    raw_data = np.load(file)\n",
    "    reshaped_data[file] = raw_data.reshape((2, -1))\n",
    "\n",
    "plt.figure(figsize=(10, 8))\n",
    "\n",
    "for i, file in enumerate(files): \n",
    "    if file in reshaped_data:\n",
    "        data2 = reshaped_data[file]\n",
    "        offset = i * 0.5\n",
    "        time_array = data2[0, :]\n",
    "        voltage_array = data2[1, :]\n",
    "        \n",
    "        plt.plot(time_array, voltage_array + offset, label=f'Point {i*2}', lw=0.8)\n",
    "        \n",
    "        valid_indices = np.where((time_array >= time_min) & (time_array <= time_max))[0]\n",
    "        baseline_voltage = np.mean(voltage_array[:valid_indices[0]]) if len(valid_indices) > 0 else 0\n",
    "\n",
    "        #for idx in valid_indices:\n",
    "            #if abs(voltage_array[idx] - baseline_voltage) > threshold:\n",
    "                #arrival_times[file] = time_array[idx]\n",
    "                #plt.scatter(time_array[idx], voltage_array[idx] + offset, color='red', zorder=3)\n",
    "                #break\n",
    "\n",
    "plt.title(\"Linear Scan with Stacked Waves\", fontsize=14)\n",
    "plt.xlabel(\"Time [s]\", fontsize=14)\n",
    "plt.grid(alpha=0.3)\n",
    "plt.legend(fontsize=12, loc=\"upper left\")\n",
    "plt.xlim(0, 5e-5)\n",
    "plt.xticks(fontsize=11)\n",
    "plt.yticks(fontsize=11)\n",
    "plt.tight_layout()\n",
    "plt.gca().xaxis.get_offset_text().set_fontsize(11)\n",
    "plt.show()\n"
   ]
  },
  {
   "cell_type": "markdown",
   "id": "4bc53685",
   "metadata": {},
   "source": [
    "I manually picked each arrival time (not recommended for time, but for accuracy, yes) here, and added them to the stacked wave plot"
   ]
  },
  {
   "cell_type": "code",
   "execution_count": null,
   "id": "75b8a58f",
   "metadata": {},
   "outputs": [],
   "source": [
    "time_min = 1.4e-5  \n",
    "time_max = 2.4e-5  \n",
    "manual_times = [2.3e-5, 2e-5, 1.9e-5, 1.8e-5, 1.7e-5, 1.65e-5, 1.8e-5, 1.59e-5, \n",
    "                1.57e-5, 1.5e-5, 1.48e-5, 1.4e-5, 1.4e-5, 1.4e-5, 1.38e-5, 1.4e-5,\n",
    "                1.35e-5, 2.1e-5, 1.4e-5, 1.45e-5, 1.5e-5, 1.5e-5, 1.9e-5, 1.85e-5]\n",
    "\n",
    "if len(manual_times) != len(files):\n",
    "    raise ValueError(\"Length of manual_times must match the number of waves (files).\")\n",
    "\n",
    "plt.figure(figsize=(10, 8))\n",
    "\n",
    "for i, (file, manual_time) in enumerate(zip(files, manual_times)): \n",
    "    if file in reshaped_data:\n",
    "        data2 = reshaped_data[file]\n",
    "        offset = i * 0.5 \n",
    "        time_array = data2[0, :]\n",
    "        voltage_array = data2[1, :]\n",
    "\n",
    "        plt.plot(time_array, voltage_array + offset, label=f'Point {i*2}', lw=0.8)\n",
    "\n",
    "        nearest_idx = np.abs(time_array - manual_time).argmin()  \n",
    "        plt.scatter(time_array[nearest_idx], voltage_array[nearest_idx] + offset, \n",
    "                    color='red', zorder=3, label=\"Manual Time\" if i == 0 else \"\")\n",
    "\n",
    "plt.title(\"Linear Scan with Stacked Waves\", fontsize=12)\n",
    "plt.xlabel(\"Time [s]\", fontsize=14)\n",
    "plt.grid(alpha=0.3)\n",
    "plt.legend(fontsize=12, loc=\"upper left\")\n",
    "plt.xlim(0, 5e-5)\n",
    "plt.xticks(fontsize=11)\n",
    "plt.yticks(fontsize=11)\n",
    "plt.tight_layout()\n",
    "plt.show()\n"
   ]
  },
  {
   "cell_type": "markdown",
   "id": "ed33c945",
   "metadata": {},
   "source": [
    "The earliest arrival time is at Point 28, in which we say, that's where the middle of the transducer is"
   ]
  },
  {
   "cell_type": "code",
   "execution_count": null,
   "id": "ede517e4",
   "metadata": {},
   "outputs": [],
   "source": [
    "transducer_index = 28  \n",
    "point_spacing = 2.132e-3  # 1.066mm per point\n",
    "velocity = 3300  #velocity from rock w/o laser\n",
    "tinterp = 4.86e-6 #time intercept from laser\n",
    "thickness = 0.02549 #rock thickness in m\n",
    "y_points = np.arange(0, 47, 2) * point_spacing  \n",
    "transducer_y = transducer_index * point_spacing "
   ]
  },
  {
   "cell_type": "markdown",
   "id": "b664461f",
   "metadata": {},
   "source": [
    "These functions indicate a calculated arrival time, based on our values from the above cell"
   ]
  },
  {
   "cell_type": "code",
   "execution_count": null,
   "id": "b420456d",
   "metadata": {},
   "outputs": [],
   "source": [
    "def distance(y):\n",
    "    vert_dist = abs(y - transducer_y)\n",
    "    return np.sqrt(thickness**2 + vert_dist**2)\n",
    "\n",
    "def TravelTimes(y, velocity, tinterp):\n",
    "    return tinterp + distance(y) / velocity\n",
    "\n",
    "calculated_travel_times = [TravelTimes(y, velocity, tinterp) for y in y_points]"
   ]
  },
  {
   "cell_type": "markdown",
   "id": "4545acf3",
   "metadata": {},
   "source": [
    "The calculated arrival times on top of the stacked waves"
   ]
  },
  {
   "cell_type": "code",
   "execution_count": null,
   "id": "16e01765",
   "metadata": {},
   "outputs": [],
   "source": [
    "plt.figure(figsize=(10, 8))\n",
    "\n",
    "for i, file in enumerate(files): \n",
    "    raw_data = np.load(file)\n",
    "    data2 = raw_data.reshape((2, -1))\n",
    "\n",
    "    offset = i * 0.5\n",
    "    time_array = data2[0, :]\n",
    "    voltage_array = data2[1, :]\n",
    "    \n",
    "    plt.plot(time_array, voltage_array + offset, label=f'Point {i*2}', lw=0.8)\n",
    "\n",
    "    if i < len(calculated_travel_times):\n",
    "        plt.plot(calculated_travel_times, \n",
    "         [voltage_array[0] + i * 0.5 for i in range(len(calculated_travel_times))], \n",
    "         color='blue', marker='o', linestyle='-', label=\"Calculated Arrival\" if i == 0 else \"\", zorder=3)\n",
    "\n",
    "plt.title(\"Linear Scan with Stacked Waves\", fontsize=12)\n",
    "plt.xlabel(\"Time [s]\", fontsize=14)\n",
    "plt.grid(alpha=0.3)\n",
    "plt.legend(fontsize=10, loc=\"upper left\")\n",
    "plt.xlim(0, 5e-5)\n",
    "plt.xticks(fontsize=11)\n",
    "plt.yticks(fontsize=11)\n",
    "plt.tight_layout()\n",
    "plt.show()\n"
   ]
  },
  {
   "cell_type": "markdown",
   "id": "4c11300a",
   "metadata": {},
   "source": [
    "Actual Arrival times and Calculated Arrival Times"
   ]
  },
  {
   "cell_type": "code",
   "execution_count": null,
   "id": "ab82bae8",
   "metadata": {},
   "outputs": [],
   "source": [
    "if len(manual_times) != len(files):\n",
    "    raise ValueError(\"Length of manual_times must match the number of waves (files).\")\n",
    "\n",
    "reshaped_data = {}\n",
    "for file in files:\n",
    "    raw_data = np.load(file)\n",
    "    reshaped_data[file] = raw_data.reshape((2, -1))\n",
    "\n",
    "plt.figure(figsize=(10, 8))\n",
    "\n",
    "for i, (file, manual_time) in enumerate(zip(files, manual_times)): \n",
    "    if file in reshaped_data:\n",
    "        data2 = reshaped_data[file]\n",
    "        offset = i * 0.5  \n",
    "        time_array = data2[0, :]\n",
    "        voltage_array = data2[1, :]\n",
    "\n",
    "        plt.plot(time_array, voltage_array + offset, label=f'Point {i*2}', lw=0.8)\n",
    "\n",
    "        nearest_idx = np.abs(time_array - manual_time).argmin()  \n",
    "\n",
    "        plt.scatter(time_array[nearest_idx], voltage_array[nearest_idx] + offset, \n",
    "                    color='magenta', zorder=3, label=\"Actual Arrival\" if i == 0 else \"\")\n",
    "\n",
    "plt.plot(calculated_travel_times, \n",
    "         [reshaped_data[files[0]][1, 0] + i * 0.5 for i in range(len(calculated_travel_times))], \n",
    "         color='blue', marker='o', linestyle='-', label=\"Calculated Arrival\", zorder=3)\n",
    "\n",
    "plt.title(\"Linear Scan with Stacked Waves\", fontsize=14)\n",
    "plt.xlabel(\"Time [s]\", fontsize=14)\n",
    "plt.grid(alpha=0.3)\n",
    "plt.legend(fontsize=11, loc=\"upper left\")\n",
    "plt.xlim(0, 5e-5)\n",
    "plt.xticks(fontsize=11)\n",
    "plt.yticks(fontsize=11)\n",
    "plt.tight_layout()\n",
    "plt.gca().xaxis.get_offset_text().set_fontsize(11)\n",
    "plt.show()"
   ]
  },
  {
   "cell_type": "code",
   "execution_count": null,
   "id": "7c7222fb",
   "metadata": {},
   "outputs": [],
   "source": [
    "plt.figure(figsize=(10, 6))\n",
    "\n",
    "x_vals = np.arange(len(manual_times))*2\n",
    "\n",
    "plt.scatter(x_vals, manual_times, color='magenta', label=\"Actual Arrival Times\", zorder=3)\n",
    "plt.plot(x_vals, manual_times, color='magenta', linestyle='-', alpha=0.6)\n",
    "\n",
    "plt.scatter(x_vals[:len(calculated_travel_times)], calculated_travel_times, \n",
    "            color='blue', label=\"Calculated Arrival Times\", zorder=3)\n",
    "plt.plot(x_vals[:len(calculated_travel_times)], calculated_travel_times, \n",
    "         color='blue', linestyle='-', alpha=0.6)\n",
    "\n",
    "plt.xlabel(\"Point Number\", fontsize=13)\n",
    "plt.ylabel(\"Time [s]\", fontsize=13)\n",
    "plt.title(\"Traveltime Comparison, v = 3300 m/s\", fontsize=13)\n",
    "plt.legend(fontsize=13, loc=\"upper left\")\n",
    "plt.grid(alpha=0.3)\n",
    "plt.ylim([0.5e-5,3e-5])\n",
    "plt.xticks(fontsize=12)\n",
    "plt.yticks(fontsize=12)\n",
    "plt.gca().invert_yaxis()  # Flip y-axis so earlier times are at the top\n",
    "plt.gca().yaxis.get_offset_text().set_fontsize(12)\n",
    "plt.show()"
   ]
  }
 ],
 "metadata": {
  "kernelspec": {
   "display_name": "base",
   "language": "python",
   "name": "python3"
  },
  "language_info": {
   "codemirror_mode": {
    "name": "ipython",
    "version": 3
   },
   "file_extension": ".py",
   "mimetype": "text/x-python",
   "name": "python",
   "nbconvert_exporter": "python",
   "pygments_lexer": "ipython3",
   "version": "3.11.7"
  }
 },
 "nbformat": 4,
 "nbformat_minor": 5
}
